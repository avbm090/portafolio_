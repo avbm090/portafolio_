{
 "cells": [
  {
   "cell_type": "code",
   "execution_count": null,
   "metadata": {},
   "outputs": [],
   "source": [
    "import pandas as pd\n",
    "from sklearn.tree import DecisionTreeClassifier\n",
    "from sklearn.model_selection import train_test_split\n",
    "from matplotlib import pyplot as plt\n",
    "from sklearn import tree\n",
    "import os\n",
    "from sklearn.metrics import confusion_matrix\n",
    "import numpy as np\n",
    "\n",
    "pacientes=pd.read_csv('C:/Users/Outlet VL/Desktop/programacion/pruebas/pacientes.csv',sep=';')\n",
    "pacientes=pacientes.drop(['NOEXPED'],axis=1)\n",
    "pacientes.info()"
   ]
  },
  {
   "cell_type": "code",
   "execution_count": null,
   "metadata": {},
   "outputs": [],
   "source": [
    "pacientes.head()"
   ]
  },
  {
   "cell_type": "code",
   "execution_count": null,
   "metadata": {},
   "outputs": [],
   "source": [
    "X=pacientes.iloc[:,1:11]\n",
    "Y=pacientes.iloc[:,0]\n",
    "X_train, X_test, Y_train, Y_test = train_test_split(X, Y, train_size=0.8, random_state=0)\n",
    "X_train.info()"
   ]
  },
  {
   "cell_type": "code",
   "execution_count": null,
   "metadata": {},
   "outputs": [],
   "source": [
    "arbol = DecisionTreeClassifier(max_depth=4)\n",
    "arbol_enfermedad = arbol.fit(X_train, Y_train)\n"
   ]
  },
  {
   "cell_type": "code",
   "execution_count": null,
   "metadata": {},
   "outputs": [],
   "source": [
    "# dimensiones del gráfico\n",
    "fig=plt.figure(figsize=(25,20))\n",
    "#configuración del gráfico de árbol\n",
    "tree.plot_tree(arbol_enfermedad, feature_names=list(X.columns.values),\n",
    "               class_names=list(Y.values), filled=True)\n",
    "#se inicia el gráfico\n",
    "plt.show()"
   ]
  },
  {
   "cell_type": "code",
   "execution_count": null,
   "metadata": {},
   "outputs": [],
   "source": [
    "# Se guarda el archivo en la computadora para poder visualizarlo mejor\n",
    "fig.savefig('Arbol.png')"
   ]
  },
  {
   "cell_type": "code",
   "execution_count": null,
   "metadata": {},
   "outputs": [],
   "source": [
    "#busco el directorio por defecto para abrir el archivo png\n",
    "os.getcwd()"
   ]
  },
  {
   "cell_type": "code",
   "execution_count": null,
   "metadata": {},
   "outputs": [],
   "source": [
    "# Se verifica qué tan bueno fue el algoritmo realizando predicciones\n",
    "\n",
    "Y_predict=arbol_enfermedad.predict(X_test)"
   ]
  },
  {
   "cell_type": "code",
   "execution_count": null,
   "metadata": {},
   "outputs": [],
   "source": [
    "Y_predict"
   ]
  },
  {
   "cell_type": "code",
   "execution_count": null,
   "metadata": {},
   "outputs": [],
   "source": [
    "#Se crea una matriz de confusión para validar resultados visualmente\n",
    "\n",
    "matriz_conf=confusion_matrix(Y_test, Y_predict)"
   ]
  },
  {
   "cell_type": "code",
   "execution_count": null,
   "metadata": {},
   "outputs": [],
   "source": [
    "matriz_conf"
   ]
  },
  {
   "cell_type": "code",
   "execution_count": null,
   "metadata": {},
   "outputs": [],
   "source": [
    "# Verificamos de forma cuantitativa la veracidad de los dato:\n",
    "# Precisión: dividimos la suma de los datos de la \n",
    "#diagonal respecto al total de los datos\n",
    "\n",
    "Precision_de_todas_las_clases = np.sum(matriz_conf.diagonal())/ np.sum(matriz_conf)\n",
    "Precision"
   ]
  },
  {
   "cell_type": "code",
   "execution_count": null,
   "metadata": {},
   "outputs": [],
   "source": [
    "Precision_No=(matriz_conf[0,0])/sum(matriz_conf[0,])\n",
    "Precision_No"
   ]
  },
  {
   "cell_type": "code",
   "execution_count": null,
   "metadata": {},
   "outputs": [],
   "source": [
    "Precision_Si=(matriz_conf[1,1])/sum(matriz_conf[1,])\n",
    "Precision_Si"
   ]
  }
 ],
 "metadata": {
  "language_info": {
   "name": "python"
  },
  "orig_nbformat": 4
 },
 "nbformat": 4,
 "nbformat_minor": 2
}
